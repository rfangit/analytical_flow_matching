{
 "cells": [
  {
   "cell_type": "markdown",
   "id": "d6ff0be8-652c-4091-b73c-8383a442f446",
   "metadata": {},
   "source": [
    "In this notebook, we run tests for the function \"compute_linear_velocity_batch_time_arb_var\", which is important for many flow-matching applications hereafter.\n",
    "\n",
    "# Imports"
   ]
  },
  {
   "cell_type": "code",
   "execution_count": 1,
   "id": "cb24d882-894a-4744-bf13-7504fc7cf557",
   "metadata": {},
   "outputs": [],
   "source": [
    "import numpy as np\n",
    "import matplotlib.pyplot as plt\n",
    "from matplotlib.animation import FuncAnimation\n",
    "import time\n",
    "\n",
    "import torch\n",
    "import torch.nn.functional as F\n",
    "from torch import nn, Tensor\n",
    "# We won't import the new function directly, but instead copy a version here for use."
   ]
  },
  {
   "cell_type": "markdown",
   "id": "72b8195e-e2d1-4fff-aae6-5d56f60dabdb",
   "metadata": {},
   "source": [
    "# Function To Test"
   ]
  },
  {
   "cell_type": "code",
   "execution_count": 2,
   "id": "8d60cd4f-9610-40f6-808a-55232f74961d",
   "metadata": {},
   "outputs": [],
   "source": [
    "def compute_linear_velocity_batch_time_arb_var(\n",
    "    current_points: torch.Tensor,  # Shape [M, *dims]\n",
    "    data: torch.Tensor,            # Shape [N, *dims]\n",
    "    t: torch.Tensor,               # Shape [M]\n",
    "    sigma_i: float,\n",
    "    sigma_f: torch.Tensor,         # Shape [N]\n",
    "    coefficients: torch.Tensor,    # Shape [N]\n",
    "    return_intermediates: bool = False  # Optional debugging\n",
    ") -> torch.Tensor | tuple[torch.Tensor, dict]:\n",
    "    \"\"\"\n",
    "    Computes velocity for batched inputs with time as tensor.\n",
    "\n",
    "    Args:\n",
    "        current_points: [M, *dims] positions\n",
    "        data: [N, *dims] target points\n",
    "        t: [M] batch of time values\n",
    "        sigma_i: float\n",
    "        sigma_f: [N] final std devs\n",
    "        coefficients: [N] mixture weights\n",
    "        return_intermediates: if True, also return dictionary of intermediates\n",
    "\n",
    "    Returns:\n",
    "        velocities: [M, *dims]\n",
    "        intermediates: dict of named tensors (if return_intermediates=True)\n",
    "    \"\"\"\n",
    "    intermediates = {}\n",
    "\n",
    "    t_reshaped = t.view(-1, *([1]*(data.dim())))  # [M, 1, *dims]\n",
    "    t_reshaped_2 = t.unsqueeze(-1)                # [M, 1]\n",
    "    sigma_f_reshaped = sigma_f.unsqueeze(0)       # [1, N]\n",
    "    sigma_f_reshaped_2 = sigma_f.view(1, -1, *[1]*(data.dim() - 1))  # [1, N, *dims]\n",
    "    coefficients_reshaped = coefficients.unsqueeze(0)  # [1, N]\n",
    "\n",
    "    data_exp = data.unsqueeze(0)                    # [1, N, *dims]\n",
    "    data_scaled = t_reshaped * data_exp             # [M, N, *dims]\n",
    "    current_expanded = current_points.unsqueeze(1)  # [M, 1, *dims]\n",
    "    \n",
    "    diff = (current_expanded - data_scaled)         # [M, N, *dims]\n",
    "    squared_dist = torch.sum(diff**2, dim=tuple(range(2, diff.dim())))  # [M, N]\n",
    "\n",
    "    dims = current_points.shape[1:]  # This gets *dims\n",
    "    net_dim_coeff = torch.prod(torch.tensor(dims)).item()*0.5\n",
    "    \n",
    "    denominator = (1 - t_reshaped_2)**2 * sigma_i + t_reshaped_2**2 * sigma_f_reshaped  # [M, N]\n",
    "    logits = -0.5 * squared_dist / (denominator)\n",
    "    logit_interm = -0.5 * squared_dist / (denominator)\n",
    "    coefficient_term = torch.log((1 - t_reshaped_2) * coefficients_reshaped) - net_dim_coeff * torch.log(denominator)\n",
    "    logits += torch.log((1 - t_reshaped_2) * coefficients_reshaped) - net_dim_coeff * torch.log(denominator)\n",
    "\n",
    "    weights = torch.softmax(logits, dim=1)  # [M, N]\n",
    "\n",
    "    denominator_2 = (1 - t_reshaped)**2 * sigma_i + t_reshaped**2 * sigma_f_reshaped_2  # [M, N, *dims]\n",
    "    x_num = t_reshaped * sigma_f_reshaped_2 - (1 - t_reshaped) * sigma_i                # [M, N, *dims]\n",
    "    data_num = (1 - t_reshaped) * sigma_i                                               # [M, 1, *dims]\n",
    "    net_weight_vec = (current_expanded * x_num + data_num * data_exp) / denominator_2  # [M, N, *dims]\n",
    "\n",
    "    velocities = torch.sum(weights.unsqueeze(-1) * net_weight_vec, dim=1)  # [M, *dims]\n",
    "\n",
    "    if return_intermediates:\n",
    "        intermediates = {\n",
    "            \"t_reshaped\": t_reshaped,\n",
    "            \"t_reshaped_2\": t_reshaped_2,\n",
    "            \"sigma_f_reshaped\": sigma_f_reshaped,\n",
    "            \"sigma_f_reshaped_2\": sigma_f_reshaped_2,\n",
    "            \"coefficients_reshaped\": coefficients_reshaped,\n",
    "            \"data_exp\": data_exp,\n",
    "            \"data_scaled\": data_scaled,\n",
    "            \"current_expanded\": current_expanded,\n",
    "            \"diff\": diff,\n",
    "            \"squared_dist\": squared_dist,\n",
    "            \"denominator\": denominator,\n",
    "            \"logits\": logits,\n",
    "            \"weights\": weights,\n",
    "            \"denominator_2\": denominator_2,\n",
    "            \"x_num\": x_num,\n",
    "            \"data_num\": data_num,\n",
    "            \"net_weight_vec\": net_weight_vec,\n",
    "            \"velocities\": velocities,\n",
    "            \"logit_interm\": logit_interm,\n",
    "            \"coefficient_term\": coefficient_term\n",
    "        }\n",
    "        return velocities, intermediates\n",
    "\n",
    "    return velocities\n"
   ]
  },
  {
   "cell_type": "markdown",
   "id": "10272899-5bed-48d1-a7f2-c4c927168c3c",
   "metadata": {},
   "source": [
    "# Test Case"
   ]
  },
  {
   "cell_type": "code",
   "execution_count": 3,
   "id": "73dc8b5c-3f93-4865-b2ab-61aad950e232",
   "metadata": {},
   "outputs": [],
   "source": [
    "# Define test case\n",
    "current_points = torch.tensor([[0.0, 0.0], [1.0, 0.0], [2.0, 0.0]])  # M = 3, D = 2\n",
    "data = torch.tensor([[0.0, 1.0], [1.0, 1.0]])             # N = 2, D = 2\n",
    "t = torch.tensor([0.1, 0.5, 0.9])\n",
    "sigma_i = 1.0\n",
    "sigma_f = torch.tensor([1.0, 2.0])\n",
    "coefficients = torch.tensor([0.5, 1.0])"
   ]
  },
  {
   "cell_type": "code",
   "execution_count": 4,
   "id": "bd854d72-852a-4898-a764-0e57a47d20d1",
   "metadata": {},
   "outputs": [],
   "source": [
    "# Run function with return_intermediates=True\n",
    "velocities, intermediates = compute_linear_velocity_batch_time_arb_var(\n",
    "    current_points, data, t, sigma_i, sigma_f, coefficients, return_intermediates=True\n",
    ")"
   ]
  },
  {
   "cell_type": "markdown",
   "id": "04fa0ff6-8c8f-43c4-b071-31fef4502d23",
   "metadata": {},
   "source": [
    "## Squared Dist Check\n",
    "\n",
    "For each pair (current_point, data_point), scale by t, compute diff, and manually compute squared diff.\n",
    "\n",
    "    current_point = [0,0], t=0.1\n",
    "\n",
    "        With data_point [0,1]: [0,0] - 0.1*[0,1] = [0,-0.1] → squared_dist = 0 + 0.01 = 0.01\n",
    "\n",
    "        With data_point [1,1]: [0,0] - 0.1*[1,1] = [-0.1,-0.1] → squared_dist = 0.01 + 0.01 = 0.02\n",
    "\n",
    "    current_point = [1,0], t=0.5\n",
    "\n",
    "        With data_point [0,1]: [1,0] - 0.5*[0,1] = [1,-0.5] → squared_dist = 1 + 0.25 = 1.25\n",
    "\n",
    "        With data_point [1,1]: [1,0] - 0.5*[1,1] = [0.5,-0.5] → squared_dist = 0.25 + 0.25 = 0.5\n",
    "\n",
    "    current_point = [2,0], t=0.9\n",
    "\n",
    "        With data_point [0,1]: [2,0] - 0.9*[0,1] = [2,-0.9] → squared_dist = 4 + 0.81 = 4.81\n",
    "\n",
    "        With data_point [1,1]: [2,0] - 0.9*[1,1] = [1.1,-0.9] → squared_dist = 1.21 + 0.81 = 2.02\n"
   ]
  },
  {
   "cell_type": "code",
   "execution_count": 5,
   "id": "fb19495c-bd86-4206-9873-5f21682a48ce",
   "metadata": {},
   "outputs": [
    {
     "name": "stdout",
     "output_type": "stream",
     "text": [
      "Computed squared_dist:\n",
      "tensor([[0.0100, 0.0200],\n",
      "        [1.2500, 0.5000],\n",
      "        [4.8100, 2.0200]])\n",
      "\n",
      "Expected squared_dist:\n",
      "tensor([[0.0100, 0.0200],\n",
      "        [1.2500, 0.5000],\n",
      "        [4.8100, 2.0200]])\n"
     ]
    }
   ],
   "source": [
    "# Check squared distances\n",
    "print(\"Computed squared_dist:\")\n",
    "print(intermediates[\"squared_dist\"])\n",
    "print(\"\\nExpected squared_dist:\")\n",
    "print(torch.tensor([[0.01, 0.02],\n",
    "                    [1.25, 0.50],\n",
    "                    [4.81, 2.02]]))"
   ]
  },
  {
   "cell_type": "markdown",
   "id": "f2bd1837-968a-4424-8ddb-1daea062af56",
   "metadata": {},
   "source": [
    "## Denominator Check\n",
    "\n",
    "For current_point [0,0] (t=0.1):\n",
    "\n",
    "    denominator = (0.9²)*1 + (0.1²)*σ_f = [0.81 + 0.01*1, 0.81 + 0.01*2] = [0.82, 0.83]\n",
    "\n",
    "For current_point [1,0] (t=0.5):\n",
    "\n",
    "    denominator = (0.5²)*1 + (0.5²)*σ_f = [0.25 + 0.25*1, 0.25 + 0.25*2] = [0.5, 0.75]\n",
    "\n",
    "For current_point [2,0] (t=0.9):\n",
    "\n",
    "    denominator = (0.1²)*1 + (0.9²)*σ_f = [0.01 + 0.81*1, 0.01 + 0.81*2] = [0.82, 1.63]"
   ]
  },
  {
   "cell_type": "code",
   "execution_count": 6,
   "id": "c9ee444a-68b5-4b66-8645-b8cf74207cdf",
   "metadata": {},
   "outputs": [
    {
     "name": "stdout",
     "output_type": "stream",
     "text": [
      "Computed denominator:\n",
      "tensor([[0.8200, 0.8300],\n",
      "        [0.5000, 0.7500],\n",
      "        [0.8200, 1.6300]])\n",
      "\n",
      "Manual denominator:\n",
      "tensor([[0.8200, 0.8300],\n",
      "        [0.5000, 0.7500],\n",
      "        [0.8200, 1.6300]])\n"
     ]
    }
   ],
   "source": [
    "# Print computed values\n",
    "print(\"Computed denominator:\")\n",
    "print(intermediates[\"denominator\"])\n",
    "# Manual calculations\n",
    "manual_denominator = torch.tensor([\n",
    "    [(1-0.1)**2 * 1 + (0.1)**2 * 1, (1-0.1)**2 * 1 + (0.1)**2 * 2],\n",
    "    [(1-0.5)**2 * 1 + (0.5)**2 * 1, (1-0.5)**2 * 1 + (0.5)**2 * 2],\n",
    "    [(1-0.9)**2 * 1 + (0.9)**2 * 1, (1-0.9)**2 * 1 + (0.9)**2 * 2]\n",
    "])\n",
    "\n",
    "print(\"\\nManual denominator:\")\n",
    "print(manual_denominator)"
   ]
  },
  {
   "cell_type": "markdown",
   "id": "a3d3e02e-fc5c-41ac-9d69-95a7dce058c8",
   "metadata": {},
   "source": [
    "## Logit Check\n",
    "\n",
    "There are [M, N] logits. For each current point, there are two squared distances with the 2 target points. We first focus on\n",
    "\n",
    "    logit = -0.5 * squared_dist / (denominator)\n",
    "\n",
    "For current_point [0,0] (t=0.1):\n",
    "\n",
    "    logit = -0.5 * [0.0100, 0.0200]/[0.82, 0.83] = [-0.006098, -0.012048]\n",
    "\n",
    "For current_point [1,0] (t=0.5):\n",
    "\n",
    "    logit = -0.5 * [1.25, 0.5]/[0.5, 0.75] = [-1.25, -0.333333]\n",
    "\n",
    "For current_point [2,0] (t=0.9):\n",
    "\n",
    "    logit = -0.5 * [4.8100, 2.0200]/[0.82, 1.63] = [-2.932927, -0.619632]"
   ]
  },
  {
   "cell_type": "code",
   "execution_count": 7,
   "id": "16f233e4-11ff-45ac-97d0-70665e240809",
   "metadata": {},
   "outputs": [
    {
     "name": "stdout",
     "output_type": "stream",
     "text": [
      "Computed logit interm:\n",
      "tensor([[-0.0061, -0.0120],\n",
      "        [-1.2500, -0.3333],\n",
      "        [-2.9329, -0.6196]])\n",
      "\n",
      "Manual logit interm:\n",
      "tensor([[-0.0061, -0.0120],\n",
      "        [-1.2500, -0.3333],\n",
      "        [-2.9329, -0.6196]])\n"
     ]
    }
   ],
   "source": [
    "# Print computed values\n",
    "print(\"Computed logit interm:\")\n",
    "print(intermediates[\"logit_interm\"])\n",
    "# Manual calculations\n",
    "manual_logit_interm = torch.tensor([\n",
    "    [-0.006098, -0.012048],\n",
    "    [-1.25, -0.333333],\n",
    "    [-2.932927, -0.619632]\n",
    "])\n",
    "\n",
    "print(\"\\nManual logit interm:\")\n",
    "print(manual_logit_interm)"
   ]
  },
  {
   "cell_type": "markdown",
   "id": "4b904b1b-418c-4ff2-a016-96f6a6611a69",
   "metadata": {},
   "source": [
    "We have the correct distance based logit terms. Next the coefficient terms (for a 2d problem):\n",
    "\n",
    "   `coefficient_term = torch.log((1 - t_reshaped_2) * coefficients_reshaped) - torch.log(denominator)`\n",
    "\n",
    "### 1. For current_point [0,0] (t=0.1):\n",
    "\n",
    "```\n",
    "(1-t)*coefficients = 0.9 * [0.5, 1.0] = [0.45, 0.9]\n",
    "log([0.45, 0.9]) ≈ [-0.798508, -0.105361]\n",
    "-log(denominator) = -log([0.82, 0.83]) ≈ [0.198446, 0.186372]\n",
    "```\n",
    "\n",
    "\n",
    "### 2. For current_point [1,0] (t=0.5):\n",
    "\n",
    "```\n",
    "(1-t)*coefficients = 0.5 * [0.5, 1.0] = [0.25, 0.5]\n",
    "log([0.25, 0.5]) ≈ [-1.386294, -0.693147]\n",
    "-log(denominator) = -log([0.5, 0.75]) ≈ [0.693147, 0.287682]`  \n",
    "```\n",
    "\n",
    "\n",
    "### 3. For current_point [2,0] (t=0.9):\n",
    "\n",
    "```\n",
    "(1-t)*coefficients = 0.1 * [0.5, 1.0] = [0.05, 0.1]\n",
    "log([0.05, 0.1]) ≈ [-2.995732, -2.302585]\n",
    "-log(denominator) = -log([0.82, 1.63]) ≈ [0.198446, -0.48858001]` \n",
    "```\n"
   ]
  },
  {
   "cell_type": "code",
   "execution_count": 17,
   "id": "006b788c-4636-4155-8e79-f9d0c686cdfd",
   "metadata": {},
   "outputs": [
    {
     "name": "stdout",
     "output_type": "stream",
     "text": [
      "Computed coefficient_term:\n",
      "tensor([[-0.6001,  0.0810],\n",
      "        [-0.6931, -0.4055],\n",
      "        [-2.7973, -2.7912]])\n",
      "\n",
      "Manual coefficient_term:\n",
      "tensor([[-0.6001,  0.0810],\n",
      "        [-0.6931, -0.4055],\n",
      "        [-2.7973, -2.7912]])\n"
     ]
    }
   ],
   "source": [
    "# Print computed values\n",
    "print(\"Computed coefficient_term:\")\n",
    "print(intermediates[\"coefficient_term\"])\n",
    "# Manual calculations\n",
    "manual_coefficient_term = torch.tensor([\n",
    "    [-0.798508 + 0.198446, -0.105361 + 0.186372],\n",
    "    [-1.386294 + 0.693147, -0.693147 + 0.287682],\n",
    "    [-2.995732 + 0.198446, -2.302585 + -0.4885800148186709]\n",
    "])\n",
    "print(\"\\nManual coefficient_term:\")\n",
    "print(manual_coefficient_term)"
   ]
  },
  {
   "cell_type": "markdown",
   "id": "b29c0f17-dc45-4d8c-9540-ddc6ae6253fe",
   "metadata": {},
   "source": [
    "They match quite closely. Finally, we compare the logits"
   ]
  },
  {
   "cell_type": "code",
   "execution_count": 18,
   "id": "4f02d0a5-edc6-4f8e-8b68-1d7f8f20639a",
   "metadata": {},
   "outputs": [
    {
     "name": "stdout",
     "output_type": "stream",
     "text": [
      "Computed logits:\n",
      "tensor([[-0.6062,  0.0689],\n",
      "        [-1.9431, -0.7388],\n",
      "        [-5.7302, -3.4108]])\n",
      "\n",
      "Manual logit interm:\n",
      "tensor([[-0.6062,  0.0690],\n",
      "        [-1.9431, -0.7388],\n",
      "        [-5.7302, -3.4108]])\n"
     ]
    }
   ],
   "source": [
    "# Print computed values\n",
    "print(\"Computed logits:\")\n",
    "print(intermediates[\"logits\"])\n",
    "# Manual calculations\n",
    "manual_logits = manual_logit_interm + manual_coefficient_term\n",
    "\n",
    "print(\"\\nManual logit interm:\")\n",
    "print(manual_logits)"
   ]
  },
  {
   "cell_type": "markdown",
   "id": "b7cc7c70-d8e0-4d52-8425-a9e06dd86883",
   "metadata": {},
   "source": [
    "Now we compute the manual softmax weights from the logits and compare them with the computed weights.\n",
    "\n",
    "## Softmax Check\n",
    "Given the logits:\n",
    "```\n",
    "[\n",
    "  [-0.6062,  0.0690],  # t=0.1\n",
    "  [-1.9431, -0.7388],  # t=0.5\n",
    "  [-5.7302, -3.4108]   # t=0.9\n",
    "]\n",
    "```\n",
    "\n",
    "The softmax is calculated as:\n",
    "```\n",
    "weights = exp(logits) / sum(exp(logits), dim=1)\n",
    "```\n",
    "\n",
    "#### 1. For t=0.1:\n",
    "```\n",
    "- `exp(-0.6062) ≈ 0.5456`\n",
    "- `exp(0.0690) ≈ 1.0714`\n",
    "- `sum = 0.5456 + 1.0714 ≈ 1.6170`\n",
    "- `weights = [0.5456/1.6170, 1.0714/1.6170] ≈ [0.3374, 0.6626]`\n",
    "```\n",
    "\n",
    "#### 2. For t=0.5:\n",
    "```\n",
    "- `exp(-1.9431) ≈ 0.1431`\n",
    "- `exp(-0.7388) ≈ 0.4776`\n",
    "- `sum = 0.1431 + 0.4776 ≈ 0.6207`\n",
    "- `weights = [0.1431/0.6207, 0.4776/0.6207] ≈ [0.2305, 0.7695]`\n",
    "```\n",
    "\n",
    "#### 3. For t=0.9:\n",
    "```\n",
    "- `exp(-5.7302) ≈ 0.0033`\n",
    "- `exp(-3.4108) ≈ 0.0330`\n",
    "- `sum = 0.0033 + 0.0330 ≈ 0.0363`\n",
    "- `weights = [0.0033/0.0363, 0.0330/0.0363] ≈ [0.0909, 0.9091]`\n",
    "```\n",
    "\n",
    "Yielding the following final logits\n",
    "```\n",
    "tensor([[0.3374, 0.6626],\n",
    "        [0.2305, 0.7695],\n",
    "        [0.0909, 0.9091]])\n",
    "```\n"
   ]
  },
  {
   "cell_type": "code",
   "execution_count": 20,
   "id": "81f8ae9c-44a7-4545-852a-6952fa17f99e",
   "metadata": {},
   "outputs": [
    {
     "name": "stdout",
     "output_type": "stream",
     "text": [
      "Exponential of logits:\n",
      "tensor([[0.5454, 1.0714],\n",
      "        [0.1433, 0.4777],\n",
      "        [0.0032, 0.0330]])\n",
      "Computed weights:\n",
      "tensor([[0.3374, 0.6626],\n",
      "        [0.2307, 0.7693],\n",
      "        [0.0895, 0.9105]])\n",
      "Manually computed weights:\n",
      "tensor([[0.3374, 0.6626],\n",
      "        [0.2305, 0.7695],\n",
      "        [0.0909, 0.9091]])\n"
     ]
    }
   ],
   "source": [
    "print (\"Exponential of logits:\")\n",
    "print (torch.exp(manual_logits))\n",
    "\n",
    "# Print computed values\n",
    "print(\"Computed weights:\")\n",
    "print(intermediates[\"weights\"])\n",
    "\n",
    "manual_weights = torch.tensor([\n",
    "    [0.3374, 0.6626],\n",
    "    [0.2305, 0.7695],\n",
    "    [0.0909, 0.9091]\n",
    "])\n",
    "print (\"Manually computed weights:\")\n",
    "print (manual_weights)"
   ]
  },
  {
   "cell_type": "markdown",
   "id": "0631781c-3f0a-437b-adac-2b05dd93b727",
   "metadata": {},
   "source": [
    "Which shows good agreement between the two.\n",
    "\n",
    "## Weighted Vector Check\n",
    "Next, we verify that the net weight vector is as expected."
   ]
  },
  {
   "cell_type": "code",
   "execution_count": 11,
   "id": "ac05ee16-3656-40d3-9215-0c9f62ef2f74",
   "metadata": {},
   "outputs": [
    {
     "name": "stdout",
     "output_type": "stream",
     "text": [
      "Denominator:\n",
      "tensor([[[0.8200],\n",
      "         [0.8300]],\n",
      "\n",
      "        [[0.5000],\n",
      "         [0.7500]],\n",
      "\n",
      "        [[0.8200],\n",
      "         [1.6300]]])\n",
      "X vector pre-factor:\n",
      "tensor([[[-0.8000],\n",
      "         [-0.7000]],\n",
      "\n",
      "        [[ 0.0000],\n",
      "         [ 0.5000]],\n",
      "\n",
      "        [[ 0.8000],\n",
      "         [ 1.7000]]])\n",
      "Data pre-factor:\n",
      "tensor([[[0.9000]],\n",
      "\n",
      "        [[0.5000]],\n",
      "\n",
      "        [[0.1000]]])\n"
     ]
    }
   ],
   "source": [
    "#denominator_2 = (1 - t_reshaped)**2 * sigma_i + t_reshaped**2 * sigma_f_reshaped_2  # [M, N, *dims]\n",
    "#x_num = t_reshaped * sigma_f_reshaped_2 - (1 - t_reshaped) * sigma_i                # [M, N, *dims]\n",
    "#data_num = (1 - t_reshaped) * sigma_i                                               # [M, 1, *dims]\n",
    "#net_weight_vec = (current_expanded * x_num + data_num * data_exp) / denominator_2  # [M, N, *dims]\n",
    "\n",
    "print (\"Denominator:\")\n",
    "print(intermediates[\"denominator_2\"])\n",
    "\n",
    "print (\"X vector pre-factor:\")\n",
    "print(intermediates[\"x_num\"])\n",
    "\n",
    "print (\"Data pre-factor:\")\n",
    "print(intermediates[\"data_num\"])"
   ]
  },
  {
   "cell_type": "markdown",
   "id": "087ad43c-399b-408e-8dcb-a1183a8d25e1",
   "metadata": {},
   "source": [
    "The denominator was previously calculated and shows good agreement. \n",
    "\n",
    "For the data prefactors, we obtain tensors of the shape $(1 - t) \\sigma_i$ as expected.\n",
    "\n",
    "For the x prefactors, we explicitly calculate. \n",
    "\n",
    "### 1. For t=0.1:\n",
    "```\n",
    "t * sigma_f - (1 - t) * sigma_i = 0.1 * [1, 2] - (0.9) * [1, 1] = [-0.8, -0.7]\n",
    "```\n",
    "### 2. For t=0.5:\n",
    "```\n",
    "t * sigma_f - (1 - t) * sigma_i = 0.5 * [1, 2] - (0.5) * [1, 1] = [0, 0.5]\n",
    "```\n",
    "### 3. For t=0.9:\n",
    "```\n",
    "t * sigma_f - (1 - t) * sigma_i = 0.9 * [1, 2] - (0.1) * [1, 1] = [0.8, 1.7]\n",
    "```\n",
    "which matches our results.\n",
    "\n",
    "Next, we check net vector, given by net_weight_vec = (x_pre-factor * x_num + data_pre-factor * data) / denominator "
   ]
  },
  {
   "cell_type": "markdown",
   "id": "ede39382-39cd-41fa-8345-9b8b548fa657",
   "metadata": {},
   "source": [
    "### For t=0.1 (first batch element):\n",
    "Current point: [0,0]\n",
    "Data points: [0,1] and [1,1]\n",
    "\n",
    "#### For data point [0,1]:\n",
    "```\n",
    "numerator = [0,0] * [-0.8] + 0.9 * [0,1] = [0,0.9]\n",
    "denominator = 0.82\n",
    "result = [0/0.82, 0.9/0.82] ≈ [0.0000, 1.0976]\n",
    "```\n",
    "\n",
    "#### For data point [1,1]:\n",
    "```\n",
    "numerator = [0,0] * [-0.7] + 0.9 * [1,1] = [0.9,0.9]\n",
    "denominator = 0.83\n",
    "result = [0.9/0.83, 0.9/0.83] ≈ [1.0843, 1.0843]\n",
    "```\n",
    "\n",
    "### For t=0.5 (second batch element):\n",
    "Current point: [1,0]\n",
    "\n",
    "#### For data point [0,1]:\n",
    "```\n",
    "numerator = [1,0] * [0] + 0.5 * [0,1] = [0,0.5]\n",
    "denominator = 0.50\n",
    "result = [0/0.5, 0.5/0.5] = [0.0000, 1.0000]\n",
    "```\n",
    "\n",
    "#### For data point [1,1]:\n",
    "```\n",
    "numerator = [1,0] * [0.5] + 0.5 * [1,1] = [0.5+0.5, 0+0.5] = [1.0,0.5]\n",
    "denominator = 0.75\n",
    "result = [1.0/0.75, 0.5/0.75] ≈ [1.3333, 0.6667]\n",
    "```\n",
    "\n",
    "### For t=0.9 (third batch element):\n",
    "Current point: [2,0]\n",
    "\n",
    "#### For data point [0,1]:\n",
    "```\n",
    "numerator = [2,0] * [0.8] + 0.1 * [0,1] = [1.6,0.1]\n",
    "denominator = 0.82\n",
    "result = [1.6/0.82, 0.1/0.82] ≈ [1.9512, 0.1220]\n",
    "```\n",
    "\n",
    "#### For data point [1,1]:\n",
    "```\n",
    "numerator = [2,0] * [1.7] + 0.1 * [1,1] = [3.4+0.1, 0+0.1] = [3.5,0.1]\n",
    "denominator = 1.63\n",
    "result = [3.5/1.63, 0.1/1.63] ≈ [2.1472, 0.0613]\n",
    "```"
   ]
  },
  {
   "cell_type": "code",
   "execution_count": 21,
   "id": "9413560a-3bbe-400f-89e7-11eb0258c454",
   "metadata": {},
   "outputs": [
    {
     "name": "stdout",
     "output_type": "stream",
     "text": [
      "Net Vector (To be used with Softmax:\n",
      "tensor([[[0.0000, 1.0976],\n",
      "         [1.0843, 1.0843]],\n",
      "\n",
      "        [[0.0000, 1.0000],\n",
      "         [1.3333, 0.6667]],\n",
      "\n",
      "        [[1.9512, 0.1220],\n",
      "         [2.1472, 0.0613]]])\n",
      "Manual calculation:\n",
      "tensor([[[0.0000, 1.0976],\n",
      "         [1.0843, 1.0843]],\n",
      "\n",
      "        [[0.0000, 1.0000],\n",
      "         [1.3333, 0.6667]],\n",
      "\n",
      "        [[1.9512, 0.1220],\n",
      "         [2.1472, 0.0613]]])\n"
     ]
    }
   ],
   "source": [
    "print (\"Net Vector (To be used with Softmax:\")\n",
    "print(intermediates[\"net_weight_vec\"])\n",
    "\n",
    "manual_net_weight_vec = torch.tensor([\n",
    "    [[0.0000, 1.0976], [1.0843, 1.0843]],   # t=0.1\n",
    "    [[0.0000, 1.0000], [1.3333, 0.6667]],    # t=0.5\n",
    "    [[1.9512, 0.1220], [2.1472, 0.0613]]     # t=0.9\n",
    "])\n",
    "print (\"Manual calculation:\")\n",
    "print (manual_net_weight_vec)"
   ]
  },
  {
   "cell_type": "markdown",
   "id": "1caf23a7-074a-4c09-bbd0-ae5e1b6e0eac",
   "metadata": {},
   "source": [
    "They all match!  "
   ]
  },
  {
   "cell_type": "markdown",
   "id": "7c46cfa3-8d1e-44e1-8c8b-c1d4de996219",
   "metadata": {},
   "source": [
    "Now we compare the final velocities\n",
    "\n",
    "## Velocity Check\n",
    "\n",
    "#### 1. For t=0.1:\n",
    "```\n",
    "weights = [0.3360, 0.6640]\n",
    "net_weight_vec = [[0.0000, 1.0976], [1.0843, 1.0843]]\n",
    "\n",
    "velocity = (0.3360 * [0.0000, 1.0976]) + (0.6640 * [1.0843, 1.0843])\n",
    "         = [0.0000, 0.3688] + [0.7200, 0.7200]\n",
    "         = [0.7200, 1.0888]\n",
    "```\n",
    "\n",
    "#### 2. For t=0.5:\n",
    "```\n",
    "weights = [0.1967, 0.8033]\n",
    "net_weight_vec = [[0.0000, 1.0000], [1.3333, 0.6667]]\n",
    "\n",
    "velocity = (0.1967 * [0.0000, 1.0000]) + (0.8033 * [1.3333, 0.6667])\n",
    "         = [0.0000, 0.1967] + [1.0711, 0.5355]\n",
    "         = [1.0711, 0.7322]\n",
    "```\n",
    "\n",
    "#### 3. For t=0.9:\n",
    "```\n",
    "weights = [0.0642, 0.9358]\n",
    "net_weight_vec = [[1.9512, 0.1220], [2.1472, 0.0613]]\n",
    "\n",
    "velocity = (0.0642 * [1.9512, 0.1220]) + (0.9358 * [2.1472, 0.0613])\n",
    "         = [0.1253, 0.0078] + [2.0093, 0.0574]\n",
    "         = [2.1346, 0.0652]\n",
    "```"
   ]
  },
  {
   "cell_type": "code",
   "execution_count": 22,
   "id": "c3baf777-7d2f-4f88-8022-663fd4001250",
   "metadata": {},
   "outputs": [
    {
     "name": "stdout",
     "output_type": "stream",
     "text": [
      "Manual velocities:\n",
      "tensor([[0.7185, 1.0888],\n",
      "        [1.0260, 0.7435],\n",
      "        [2.1294, 0.0668]])\n",
      "\n",
      "Function's velocities:\n",
      "tensor([[0.7185, 1.0888],\n",
      "        [1.0257, 0.7436],\n",
      "        [2.1297, 0.0668]])\n",
      "\n",
      "Difference:\n",
      "tensor([[ 6.6757e-05,  1.1325e-05],\n",
      "        [-2.4438e-04,  4.1902e-05],\n",
      "        [ 3.0661e-04, -4.2379e-05]])\n"
     ]
    }
   ],
   "source": [
    "# Manual inputs\n",
    "manual_net_weight_vec = torch.tensor([\n",
    "    [[0.0000, 1.0976], [1.0843, 1.0843]],\n",
    "    [[0.0000, 1.0000], [1.3333, 0.6667]],\n",
    "    [[1.9512, 0.1220], [2.1472, 0.0613]]\n",
    "])\n",
    "\n",
    "# Manual velocity calculation\n",
    "manual_velocities = torch.sum(manual_weights.unsqueeze(-1) * manual_net_weight_vec, dim=1)\n",
    "\n",
    "print(\"Manual velocities:\")\n",
    "print(manual_velocities)\n",
    "\n",
    "# Compare with function output\n",
    "print(\"\\nFunction's velocities:\")\n",
    "print(intermediates[\"velocities\"])\n",
    "print(\"\\nDifference:\")\n",
    "print(intermediates[\"velocities\"] - manual_velocities)"
   ]
  },
  {
   "cell_type": "markdown",
   "id": "e1d17772-cec0-485b-9317-3717e2d0848f",
   "metadata": {},
   "source": [
    "Which matches within the accuracy of our operations! This confirms our function does as we expect it to behave."
   ]
  },
  {
   "cell_type": "code",
   "execution_count": null,
   "id": "a6baf30c-5ab8-434d-8457-492f500a3e21",
   "metadata": {},
   "outputs": [],
   "source": []
  }
 ],
 "metadata": {
  "kernelspec": {
   "display_name": "Python (diffusion-env)",
   "language": "python",
   "name": "diffusion-env"
  },
  "language_info": {
   "codemirror_mode": {
    "name": "ipython",
    "version": 3
   },
   "file_extension": ".py",
   "mimetype": "text/x-python",
   "name": "python",
   "nbconvert_exporter": "python",
   "pygments_lexer": "ipython3",
   "version": "3.12.6"
  }
 },
 "nbformat": 4,
 "nbformat_minor": 5
}
